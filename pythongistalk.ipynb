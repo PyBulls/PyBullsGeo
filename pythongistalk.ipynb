{
 "metadata": {
  "name": ""
 },
 "nbformat": 3,
 "nbformat_minor": 0,
 "worksheets": [
  {
   "cells": [
    {
     "cell_type": "heading",
     "level": 1,
     "metadata": {
      "slideshow": {
       "slide_type": "slide"
      }
     },
     "source": [
      "Python Basics"
     ]
    },
    {
     "cell_type": "markdown",
     "metadata": {
      "slideshow": {
       "slide_type": "notes"
      }
     },
     "source": [
      "The easiest way to get started with Python is at the interactive interpreter. That is basically a command line interface where you can input single commands and immediatley see the results. The most basic Python interpreter can be accessed on most Windows computers that already have python installed(any computer with ArcGIS 10 will have python installed) by opening the Start Menu, selecting run, and then typing \"cmd\" and hitting enter. That will bring up the windows command line, it should look like this:"
     ]
    },
    {
     "cell_type": "markdown",
     "metadata": {
      "slideshow": {
       "slide_type": "subslide"
      }
     },
     "source": [
      "### Python @ the Command Prompt\n",
      "\n",
      "- Start Menu\n",
      "- Run\n",
      "- type \"cmd\"\n",
      "- Enter\n",
      "- type \"python\" at the commend line \n",
      "- Enter"
     ]
    },
    {
     "cell_type": "markdown",
     "metadata": {
      "slideshow": {
       "slide_type": "fragment"
      }
     },
     "source": [
      "<img src=\"files/img/cmd2.jpg\" />"
     ]
    },
    {
     "cell_type": "markdown",
     "metadata": {
      "slideshow": {
       "slide_type": "subslide"
      }
     },
     "source": [
      "### Python Window in ArcMap \n",
      "\n",
      "- Launch ArcMap\n",
      "- Select the Geoprocessing menu\n",
      "- Select Python"
     ]
    },
    {
     "cell_type": "markdown",
     "metadata": {
      "slideshow": {
       "slide_type": "fragment"
      }
     },
     "source": [
      "<img src=\"files/img/arcmap2.jpg\" />"
     ]
    },
    {
     "cell_type": "heading",
     "level": 1,
     "metadata": {
      "slideshow": {
       "slide_type": "slide"
      }
     },
     "source": [
      "Hello World!"
     ]
    },
    {
     "cell_type": "markdown",
     "metadata": {
      "slideshow": {
       "slide_type": "notes"
      }
     },
     "source": [
      "Lets start with something simple. Type \"Hello World!\" at the command prompt, either in ArcMap or at the Python prompt at the Windows command line, and hit Enter. \n",
      "\n",
      "Make sure you inlude the quotes when you enter the above command. \n",
      "\n",
      "You should see 'Hello World!' repeated back to you:"
     ]
    },
    {
     "cell_type": "code",
     "collapsed": true,
     "input": [
      "\"Hello World!\""
     ],
     "language": "python",
     "metadata": {
      "slideshow": {
       "slide_type": "fragment"
      }
     },
     "outputs": []
    },
    {
     "cell_type": "markdown",
     "metadata": {
      "slideshow": {
       "slide_type": "notes"
      }
     },
     "source": [
      "If you want to get a little bit facier you can assign \"Hello World!\" to a variable. Let's use 'a' in this case.\n",
      "\n",
      "Then tell Python to print variable 'a'."
     ]
    },
    {
     "cell_type": "code",
     "collapsed": false,
     "input": [
      "a = \"Hello World!\"\n",
      "print(a)"
     ],
     "language": "python",
     "metadata": {
      "slideshow": {
       "slide_type": "fragment"
      }
     },
     "outputs": [
      {
       "output_type": "stream",
       "stream": "stdout",
       "text": [
        "Hello World!\n"
       ]
      }
     ],
     "prompt_number": 18
    },
    {
     "cell_type": "markdown",
     "metadata": {
      "slideshow": {
       "slide_type": "notes"
      }
     },
     "source": [
      "You can also use Python to perform a wide range of math operations. It is very straight forward to do simple math equations, and there are many very advanced modules to enable almost any kind af advanced math or statistical analysis you can imagine.\n",
      "\n",
      "Note:\n",
      "\n",
      "- Field Calculator use: !CITY_NAME!.method()\n",
      "- Python Variable use: variable.method()\n",
      "- Python String use: \"string\".method()"
     ]
    },
    {
     "cell_type": "code",
     "collapsed": true,
     "input": [
      "2+2"
     ],
     "language": "python",
     "metadata": {
      "slideshow": {
       "slide_type": "fragment"
      }
     },
     "outputs": [
      {
       "metadata": {},
       "output_type": "pyout",
       "prompt_number": 19,
       "text": [
        "4"
       ]
      }
     ],
     "prompt_number": 19
    },
    {
     "cell_type": "code",
     "collapsed": false,
     "input": [
      "2*2"
     ],
     "language": "python",
     "metadata": {
      "slideshow": {
       "slide_type": "fragment"
      }
     },
     "outputs": [
      {
       "metadata": {},
       "output_type": "pyout",
       "prompt_number": 20,
       "text": [
        "4"
       ]
      }
     ],
     "prompt_number": 20
    },
    {
     "cell_type": "code",
     "collapsed": false,
     "input": [
      "x = 2\n",
      "y = 6\n",
      "(x**2 + y **2)/2"
     ],
     "language": "python",
     "metadata": {
      "slideshow": {
       "slide_type": "fragment"
      }
     },
     "outputs": [
      {
       "metadata": {},
       "output_type": "pyout",
       "prompt_number": 22,
       "text": [
        "20"
       ]
      }
     ],
     "prompt_number": 22
    },
    {
     "cell_type": "code",
     "collapsed": false,
     "input": [
      "'Bob' + 'Jane'"
     ],
     "language": "python",
     "metadata": {
      "slideshow": {
       "slide_type": "subslide"
      }
     },
     "outputs": []
    },
    {
     "cell_type": "code",
     "collapsed": false,
     "input": [
      "'Bob' + 2"
     ],
     "language": "python",
     "metadata": {
      "slideshow": {
       "slide_type": "fragment"
      }
     },
     "outputs": []
    },
    {
     "cell_type": "code",
     "collapsed": false,
     "input": [
      "'Bob' + str(2)"
     ],
     "language": "python",
     "metadata": {
      "slideshow": {
       "slide_type": "fragment"
      }
     },
     "outputs": []
    },
    {
     "cell_type": "code",
     "collapsed": false,
     "input": [
      "'Bob' * 2"
     ],
     "language": "python",
     "metadata": {
      "slideshow": {
       "slide_type": "fragment"
      }
     },
     "outputs": []
    },
    {
     "cell_type": "code",
     "collapsed": false,
     "input": [
      "'Bob' * 'Jane'"
     ],
     "language": "python",
     "metadata": {
      "slideshow": {
       "slide_type": "fragment"
      }
     },
     "outputs": []
    },
    {
     "cell_type": "code",
     "collapsed": false,
     "input": [
      "'MAITLAND'.capitalize()"
     ],
     "language": "python",
     "metadata": {
      "slideshow": {
       "slide_type": "subslide"
      }
     },
     "outputs": []
    },
    {
     "cell_type": "code",
     "collapsed": false,
     "input": [
      "'MAITLAND      '.rstrip()"
     ],
     "language": "python",
     "metadata": {
      "slideshow": {
       "slide_type": "fragment"
      }
     },
     "outputs": []
    },
    {
     "cell_type": "code",
     "collapsed": false,
     "input": [
      "'State of california'.replace(\"california\", \"California\")"
     ],
     "language": "python",
     "metadata": {
      "slideshow": {
       "slide_type": "fragment"
      }
     },
     "outputs": []
    },
    {
     "cell_type": "code",
     "collapsed": false,
     "input": [
      "import math\n",
      "radius = 5\n",
      "4 / 3 * math.pi * radius ** 3"
     ],
     "language": "python",
     "metadata": {
      "slideshow": {
       "slide_type": "fragment"
      }
     },
     "outputs": []
    },
    {
     "cell_type": "code",
     "collapsed": false,
     "input": [
      "import math\n",
      "math.pi"
     ],
     "language": "python",
     "metadata": {
      "slideshow": {
       "slide_type": "fragment"
      }
     },
     "outputs": []
    },
    {
     "cell_type": "code",
     "collapsed": false,
     "input": [
      "max([10, 20, 30])"
     ],
     "language": "python",
     "metadata": {
      "slideshow": {
       "slide_type": "subslide"
      }
     },
     "outputs": []
    },
    {
     "cell_type": "code",
     "collapsed": false,
     "input": [
      "sum([10, 20, 30])"
     ],
     "language": "python",
     "metadata": {
      "slideshow": {
       "slide_type": "fragment"
      }
     },
     "outputs": []
    },
    {
     "cell_type": "code",
     "collapsed": false,
     "input": [
      "import scipy\n",
      "a=[10,20,40]\n",
      "scipy.mean(a)"
     ],
     "language": "python",
     "metadata": {
      "slideshow": {
       "slide_type": "fragment"
      }
     },
     "outputs": []
    },
    {
     "cell_type": "markdown",
     "metadata": {
      "slideshow": {
       "slide_type": "notes"
      }
     },
     "source": [
      "In addition you can do plot even do things like plot the result of an equation. From something simple like this:"
     ]
    },
    {
     "cell_type": "markdown",
     "metadata": {
      "slideshow": {
       "slide_type": "subslide"
      }
     },
     "source": [
      "    import matplotlib\n",
      "    matplotlib.pyplot.plot(x,x**2)"
     ]
    },
    {
     "cell_type": "markdown",
     "metadata": {
      "slideshow": {
       "slide_type": "fragment"
      }
     },
     "source": [
      "<img src=\"files/img/chart.png\" />"
     ]
    },
    {
     "cell_type": "markdown",
     "metadata": {
      "slideshow": {
       "slide_type": "subslide"
      }
     },
     "source": [
      "To something a little more complicated like:"
     ]
    },
    {
     "cell_type": "code",
     "collapsed": true,
     "input": [
      "from pylab import *\n",
      "import matplotlib.pyplot as plt\n",
      "from mpl_toolkits.mplot3d.axes3d import Axes3D\n",
      "import matplotlib.gridspec as gridspec\n",
      "from matplotlib import ticker\n",
      "alpha = 0.7\n",
      "phi_ext = 2 * pi * 0.5\n",
      "def flux_qubit_potential(phi_m, phi_p): return 2 + alpha - 2 * cos(phi_p)*cos(phi_m) - alpha * cos(phi_ext - 2*phi_p)\n",
      "phi_m = linspace(0, 2*pi, 100)\n",
      "phi_p = linspace(0, 2*pi, 100)\n",
      "X,Y = meshgrid(phi_p, phi_m)\n",
      "Z = flux_qubit_potential(X, Y).T\n",
      "fig = plt.figure(figsize=(14,6))\n",
      "ax = fig.add_subplot(1, 2, 2, projection='3d')\n",
      "p = ax.plot_surface(X, Y, Z, rstride=1, cstride=1, cmap=cm.coolwarm, linewidth=0, antialiased=False)\n",
      "cb = fig.colorbar(p, shrink=0.5)"
     ],
     "language": "python",
     "metadata": {
      "slideshow": {
       "slide_type": "fragment"
      }
     },
     "outputs": []
    },
    {
     "cell_type": "markdown",
     "metadata": {
      "slideshow": {
       "slide_type": "notes"
      }
     },
     "source": [
      "You can also interact with the Arcpy module from ESRI that enables all ArcGIS python functionality. Again, this should work at the Windows command line or at the python prompt in ArcMap.\n",
      "\n",
      "Here I import \"arcpy\" and check to see what license level I currently have."
     ]
    },
    {
     "cell_type": "markdown",
     "metadata": {
      "slideshow": {
       "slide_type": "subslide"
      }
     },
     "source": [
      "### Interacting with Arcpy"
     ]
    },
    {
     "cell_type": "code",
     "collapsed": false,
     "input": [
      "import arcpy\n",
      "print arcpy.ProductInfo()"
     ],
     "language": "python",
     "metadata": {
      "slideshow": {
       "slide_type": "fragment"
      }
     },
     "outputs": []
    },
    {
     "cell_type": "markdown",
     "metadata": {
      "slideshow": {
       "slide_type": "subslide"
      }
     },
     "source": [
      "### Using Arcpy to Export JPEG from MXD"
     ]
    },
    {
     "cell_type": "code",
     "collapsed": false,
     "input": [
      "# allows us to access the ArcGIS python tools\n",
      "import arcpy\n",
      "\n",
      "# Tell arcpy where the MXD we want to open is located.\n",
      "mxd = arcpy.mapping.MapDocument(r\"C:\\_pygis\\gis\\test.mxd\")\n",
      "\n",
      "# Sets up a variable containing the desired location of the map image.\n",
      "mapimage = r\"C:\\_pygis\\map.jpg\"\n",
      "\n",
      "# This is the arcpy tool that exports the map to a JPEG\n",
      "arcpy.mapping.ExportToJPEG(mxd, mapimage)"
     ],
     "language": "python",
     "metadata": {
      "slideshow": {
       "slide_type": "fragment"
      }
     },
     "outputs": []
    },
    {
     "cell_type": "markdown",
     "metadata": {
      "slideshow": {
       "slide_type": "fragment"
      }
     },
     "source": [
      "Ouput:\n",
      "\n",
      "<img src=\"files/img/Project.jpg\"/>"
     ]
    },
    {
     "cell_type": "heading",
     "level": 1,
     "metadata": {
      "slideshow": {
       "slide_type": "slide"
      }
     },
     "source": [
      "Field Calculator Window"
     ]
    },
    {
     "cell_type": "markdown",
     "metadata": {
      "slideshow": {
       "slide_type": "notes"
      }
     },
     "source": [
      "Lets go back to some basic Python. Even if you never intend to write python scripts or programs or even work woth it in the interactive terminal in ArcGIS you may still find it useful to learn some python to use in the ArcMap Field Calculator and some of the Layer Attribute Dialogs."
     ]
    },
    {
     "cell_type": "markdown",
     "metadata": {
      "slideshow": {
       "slide_type": "fragment"
      }
     },
     "source": [
      "ArcMap Field Calculator Dialog:\n",
      "\n",
      "<img src=\"files/img/fieldcalc.jpg\" />"
     ]
    },
    {
     "cell_type": "markdown",
     "metadata": {
      "slideshow": {
       "slide_type": "subslide"
      }
     },
     "source": [
      "ArcMap Layer Label expression Dialog:\n",
      "\n",
      "<img src=\"files/img/label.jpg\" />"
     ]
    },
    {
     "cell_type": "markdown",
     "metadata": {
      "slideshow": {
       "slide_type": "notes"
      }
     },
     "source": [
      "In both of these windows you can use bits of Python code to customize the output of the tool. "
     ]
    },
    {
     "cell_type": "markdown",
     "metadata": {
      "slideshow": {
       "slide_type": "notes"
      }
     },
     "source": [
      "For example, in the field calculator lets say you want to number a group of selected items sequentially by 1's starting at 1."
     ]
    },
    {
     "cell_type": "markdown",
     "metadata": {
      "slideshow": {
       "slide_type": "subslide"
      }
     },
     "source": [
      "<img src=\"files/img/fc1.jpg\" />"
     ]
    },
    {
     "cell_type": "markdown",
     "metadata": {
      "slideshow": {
       "slide_type": "notes"
      }
     },
     "source": [
      "One way to do this would be to write a small python function to handle the auto incremeting and then call the function in the main Field Calculator input box."
     ]
    },
    {
     "cell_type": "markdown",
     "metadata": {
      "slideshow": {
       "slide_type": "subslide"
      }
     },
     "source": [
      "### Field Calculator Auto-Increment Function"
     ]
    },
    {
     "cell_type": "code",
     "collapsed": false,
     "input": [
      "rec=0\n",
      "def autoIncrement():\n",
      " global rec\n",
      " pStart = 1 #adjust start value, if req'd \n",
      " pInterval = 1 #adjust interval value, if req'd\n",
      " if (rec == 0): \n",
      "  rec = pStart \n",
      " else: \n",
      "  rec = rec + pInterval \n",
      " return rec\n",
      "        \n",
      "# This function comes from here: \n",
      "# http://support.esri.com/fr/knowledgebase/techarticles/detail/38517"
     ],
     "language": "python",
     "metadata": {
      "slideshow": {
       "slide_type": "fragment"
      }
     },
     "outputs": []
    },
    {
     "cell_type": "markdown",
     "metadata": {
      "slideshow": {
       "slide_type": "fragment"
      }
     },
     "source": [
      "And then call the function:\n",
      "\n",
      "    autoIncrement()\n",
      "\n",
      "in the main Field Calculator expression window. "
     ]
    },
    {
     "cell_type": "markdown",
     "metadata": {
      "slideshow": {
       "slide_type": "subslide"
      }
     },
     "source": [
      "<img src=\"files/img/fieldcalc2.jpg\" />"
     ]
    },
    {
     "cell_type": "markdown",
     "metadata": {
      "slideshow": {
       "slide_type": "notes"
      }
     },
     "source": [
      "This would place sequential values, incrementing by 1, in the field you used to open the field calculator. In this case the script is starting at one, incrementing by one, until the end of the selected values is reached."
     ]
    },
    {
     "cell_type": "markdown",
     "metadata": {
      "slideshow": {
       "slide_type": "subslide"
      }
     },
     "source": [
      "<img src=\"files/img/fc2.jpg\" />"
     ]
    },
    {
     "cell_type": "markdown",
     "metadata": {
      "slideshow": {
       "slide_type": "notes"
      }
     },
     "source": [
      "With this function you could start at any number and increment by and number. You could also add additional string formatting commands to combine the numbering with additional Text or Field Values."
     ]
    },
    {
     "cell_type": "heading",
     "level": 1,
     "metadata": {
      "slideshow": {
       "slide_type": "slide"
      }
     },
     "source": [
      "Label Expression Window"
     ]
    },
    {
     "cell_type": "markdown",
     "metadata": {
      "slideshow": {
       "slide_type": "notes"
      }
     },
     "source": [
      "Let's say you have a feature class with, like the city feature class from our earlier \"test.mxd\". It has a \"NAME\" field that contains all uppercase names, and a population field (\"POP_2000\"). And lets say that you want to label each point with the city name with the first letter of the city name and the remaining letters capatalized, you would like the population rounded to the nearest hundreds, the poplation density per acre, and then some other miscellaneous text to connet them together, including a line break."
     ]
    },
    {
     "cell_type": "markdown",
     "metadata": {
      "slideshow": {
       "slide_type": "subslide"
      }
     },
     "source": [
      "    City of Maitland\n",
      "    Population: ~12000\n",
      "    Poulation per acre: 125"
     ]
    },
    {
     "cell_type": "markdown",
     "metadata": {
      "slideshow": {
       "slide_type": "subslide"
      }
     },
     "source": [
      "1. Formatting the City Name\n",
      "2. Rounding the Population value\n",
      "3. Calculating the Population Per Acre Value\n",
      "4. Formatting all of the above plus the additional text into the label.\n"
     ]
    },
    {
     "cell_type": "markdown",
     "metadata": {
      "slideshow": {
       "slide_type": "subslide"
      }
     },
     "source": [
      "### Part 1\n",
      "\n",
      "Formatting the City name."
     ]
    },
    {
     "cell_type": "code",
     "collapsed": false,
     "input": [
      "NAME = \"MAITLAND\"\n",
      "NAME.capitalize()"
     ],
     "language": "python",
     "metadata": {
      "slideshow": {
       "slide_type": "fragment"
      }
     },
     "outputs": []
    },
    {
     "cell_type": "markdown",
     "metadata": {
      "slideshow": {
       "slide_type": "subslide"
      }
     },
     "source": [
      "### Part 2\n",
      "\n",
      "Rounding the Population Value"
     ]
    },
    {
     "cell_type": "code",
     "collapsed": false,
     "input": [
      "POPULATION = 12019\n",
      "int(round(float(POPULATION), -2))"
     ],
     "language": "python",
     "metadata": {
      "slideshow": {
       "slide_type": "fragment"
      }
     },
     "outputs": []
    },
    {
     "cell_type": "markdown",
     "metadata": {
      "slideshow": {
       "slide_type": "subslide"
      }
     },
     "source": [
      "### Part 3\n",
      "\n",
      "Calculating the area per person value."
     ]
    },
    {
     "cell_type": "code",
     "collapsed": false,
     "input": [
      "POPULATION = 12019\n",
      "AREA = 42575\n",
      "area_per_person = AREA/POPULATION\n",
      "area_per_person"
     ],
     "language": "python",
     "metadata": {
      "slideshow": {
       "slide_type": "fragment"
      }
     },
     "outputs": []
    },
    {
     "cell_type": "markdown",
     "metadata": {
      "slideshow": {
       "slide_type": "subslide"
      }
     },
     "source": [
      "### Part 4\n",
      "\n",
      "Putting it all together."
     ]
    },
    {
     "cell_type": "markdown",
     "metadata": {
      "slideshow": {
       "slide_type": "fragment"
      }
     },
     "source": [
      "\"City of \" + [NAME].capitalize() +  \"\\n\" + \"Population: ~\" +str(int(round(float( [POP_2000] ), -2))) + \"\\n\" + \"Poulation per acre: \" + str(int([POP_2000]) /int([AREA])) "
     ]
    },
    {
     "cell_type": "code",
     "collapsed": false,
     "input": [
      "NAME = 'MAITLAND'\n",
      "POP_2000 = '500'\n",
      "AREA = '25'\n",
      "\n",
      "label = (\n",
      "     \"City of \" +\n",
      "     NAME.capitalize() +\n",
      "     '\\n' +\n",
      "     \"Population: ~\" +\n",
      "     str(int(round(float(POP_2000), -2))) +\n",
      "     \"\\n\" +\n",
      "     \"Poulation per acre: \" +\n",
      "     str(int(POP_2000)/int(AREA)) \n",
      "     )\n",
      "\n",
      "print(label)"
     ],
     "language": "python",
     "metadata": {
      "slideshow": {
       "slide_type": "fragment"
      }
     },
     "outputs": []
    },
    {
     "cell_type": "markdown",
     "metadata": {
      "slideshow": {
       "slide_type": "subslide"
      }
     },
     "source": [
      "<img src=\"files/img/label2.jpg\" />"
     ]
    },
    {
     "cell_type": "markdown",
     "metadata": {
      "slideshow": {
       "slide_type": "subslide"
      }
     },
     "source": [
      "This will give us a label output of:\n",
      "\n",
      "<img src=\"files/img/label4.jpg\" />"
     ]
    },
    {
     "cell_type": "heading",
     "level": 1,
     "metadata": {
      "slideshow": {
       "slide_type": "slide"
      }
     },
     "source": [
      "Python Function Example:"
     ]
    },
    {
     "cell_type": "markdown",
     "metadata": {
      "slideshow": {
       "slide_type": "notes"
      }
     },
     "source": [
      "Here is a more involved example where we classify based on variables passed into the function. In this case we use a Python function to do some conditional logic to determine what value to return base on a number of criteria. The function is 'declared' with the \"def airspeed(laden,species):\" line and defined by the following lines. Then it is used, or 'called', with the \"airspeed(\"NO\",\"EUROPEAN\")\" line, which would be placed in the main Field Calculator expression window.\n",
      "\n",
      "I am using \"if\" and \"elif\" python operations in this function. The 'If\" statement is a fairly straightforward conditional logic statement. The \"elif\" may require a little explination, it is a combination of an \"if\" statement and an \"else\" statement. Without it conditional logic can get messy. The below function would wind up being written like this if we only had \"if\" and \"else\" to work with:"
     ]
    },
    {
     "cell_type": "markdown",
     "metadata": {
      "slideshow": {
       "slide_type": "subslide"
      }
     },
     "source": [
      "### 'if' Statement\n",
      "\n",
      "    if x:\n",
      "        return 1\n",
      "    elif y:\n",
      "        return 2\n",
      "    elif z:\n",
      "        return 3\n",
      "        \n",
      "Instead of:\n",
      "        \n",
      "    if x:\n",
      "        return 1\n",
      "    else:\n",
      "        if y:\n",
      "            return 2\n",
      "        else:\n",
      "            if z:\n",
      "                return 3"
     ]
    },
    {
     "cell_type": "markdown",
     "metadata": {
      "slideshow": {
       "slide_type": "notes"
      }
     },
     "source": [
      "This gets difficult to read pretty fast, and consequently very easy to mess up when writing this type of code. So the combined \"elif\" statement was developed to simplify writing this type of code.\n",
      "\n",
      "Here is our example function:"
     ]
    },
    {
     "cell_type": "code",
     "collapsed": false,
     "input": [
      "def airspeed(laden,species):\n",
      "    if (laden == \"YES\" and species == \"AFRICAN\"):\n",
      "        return \"'Tis merely a flesh wound\"\n",
      "    elif (laden == \"YES\" and species == \"EUROPEAN\"):\n",
      "        return \"Ni\"\n",
      "    elif (laden == \"NO\" and species == \"AFRICAN\"):\n",
      "        return \"Shrubbery\"\n",
      "    elif (laden == \"NO\" and species == \"EUROPEAN\"):\n",
      "        return \"11 m/s\""
     ],
     "language": "python",
     "metadata": {},
     "outputs": []
    },
    {
     "cell_type": "markdown",
     "metadata": {
      "slideshow": {
       "slide_type": "fragment"
      }
     },
     "source": [
      "And here is how we would use, or call, our function."
     ]
    },
    {
     "cell_type": "code",
     "collapsed": false,
     "input": [
      "airspeed(\"NO\",\"EUROPEAN\")"
     ],
     "language": "python",
     "metadata": {},
     "outputs": []
    },
    {
     "cell_type": "heading",
     "level": 1,
     "metadata": {
      "slideshow": {
       "slide_type": "slide"
      }
     },
     "source": [
      "ArcMap Python Interpreter Example"
     ]
    },
    {
     "cell_type": "markdown",
     "metadata": {
      "slideshow": {
       "slide_type": "subslide"
      }
     },
     "source": [
      "You can also use Python to interact with data layers in ArcMap using the python interpreter built into ArcMap. \n",
      "\n",
      "- Open test.mxd with the Orange County Boundary and Orange County Cities layers.\n",
      "- Open the Python window. (Geoprocessing menu > Python)\n",
      "- ???\n",
      "- Profit!\n"
     ]
    },
    {
     "cell_type": "markdown",
     "metadata": {
      "slideshow": {
       "slide_type": "subslide"
      }
     },
     "source": [
      "Let's try out the Buffer_Analysis tool.\n",
      "\n",
      "- Start typing 'arcpy' at the python prompt\n",
      "- You may notice it gives you suggestions."
     ]
    },
    {
     "cell_type": "markdown",
     "metadata": {
      "slideshow": {
       "slide_type": "fragment"
      }
     },
     "source": [
      "<img src=\"files/img/autocomplete1.jpg\" />"
     ]
    },
    {
     "cell_type": "markdown",
     "metadata": {
      "slideshow": {
       "slide_type": "subslide"
      }
     },
     "source": [
      "You can ignore the auto-complete suggestions and finish typing or you can select with the arrow keys or mounse your intended command and use either the TAB key or the Enter key to auto-complete the command."
     ]
    },
    {
     "cell_type": "markdown",
     "metadata": {
      "slideshow": {
       "slide_type": "fragment"
      }
     },
     "source": [
      "- After you have entered or selected 'arcpy' add a period '.'\n",
      "- Then type 'Buffer_Analysis('\n",
      "- Type \"city\", or select 'city' from the dropdown box, if availilbe\n",
      "- Type \"city_buffer\", to name the output layer\n",
      "- Type \"1 mile\", to set the buffer radius.\n"
     ]
    },
    {
     "cell_type": "markdown",
     "metadata": {
      "slideshow": {
       "slide_type": "fragment"
      }
     },
     "source": [
      "So, the full command should be:\n",
      "\n",
      "    arcpy.Buffer_analysis(\"city\",\"city_buffer\",\"1 mile\")"
     ]
    },
    {
     "cell_type": "markdown",
     "metadata": {
      "slideshow": {
       "slide_type": "subslide"
      }
     },
     "source": [
      "So, we are using the:\n",
      "\n",
      "- 'arcpy.Buffer_Analysis' tool to...\n",
      "- buffer the 'city' layer by 1 mile...\n",
      "- and output that to the 'city_buffer' layer in the default geodatabase. \n",
      "\n",
      "The resulting layer should be automatically added to the map. "
     ]
    },
    {
     "cell_type": "markdown",
     "metadata": {
      "slideshow": {
       "slide_type": "fragment"
      }
     },
     "source": [
      "<img src=\"files/img/buffer.jpg\" />"
     ]
    },
    {
     "cell_type": "markdown",
     "metadata": {
      "slideshow": {
       "slide_type": "subslide"
      }
     },
     "source": [
      "Note: By default all new layers created from the Python interpreter will go to your Default.gdb. That would be something like \"C://Users/username/Programs/ArcGIS/Default.gdb\", unless you have changed the default location. If you would prefer that your results go to a gdb other than the default one you can specify that using the following command:\n",
      "\n",
      "    arcpy.env.workspace = r\"C:\\_pygis\\gis\\test.gdb\""
     ]
    },
    {
     "cell_type": "heading",
     "level": 1,
     "metadata": {
      "slideshow": {
       "slide_type": "slide"
      }
     },
     "source": [
      "Adding a For Loop"
     ]
    },
    {
     "cell_type": "markdown",
     "metadata": {
      "slideshow": {
       "slide_type": "notes"
      }
     },
     "source": [
      "So this is pretty straight forward, let's fix that. Instead of just creating a single buffer let's create a list of Radiuses to iterate through and create a series of Buffers."
     ]
    },
    {
     "cell_type": "markdown",
     "metadata": {
      "slideshow": {
       "slide_type": "subslide"
      }
     },
     "source": [
      "To do this we will use a \"for\" loop and a python list.\n",
      "\n",
      "the basic syntax for a for loop is:"
     ]
    },
    {
     "cell_type": "markdown",
     "metadata": {
      "slideshow": {
       "slide_type": "fragment"
      }
     },
     "source": [
      "    for 'item' in (list of things to iterate through):\n",
      "        do_something_to(item)"
     ]
    },
    {
     "cell_type": "markdown",
     "metadata": {
      "slideshow": {
       "slide_type": "subslide"
      }
     },
     "source": [
      "in this case we would first create our list of buffer radi:"
     ]
    },
    {
     "cell_type": "code",
     "collapsed": false,
     "input": [
      "Buffer_List = ['15 mile','10 mile','5 mile','1 mile']"
     ],
     "language": "python",
     "metadata": {
      "slideshow": {
       "slide_type": "fragment"
      }
     },
     "outputs": []
    },
    {
     "cell_type": "markdown",
     "metadata": {
      "slideshow": {
       "slide_type": "subslide"
      }
     },
     "source": [
      "We will also want to create a variable that contains or output feature class name. We are using a variable in this case because we want to have each Buffer radius output to a different feature calss to make sure we do not overwrite the previous iterations results when to script moves to the next Buffer radius iteration."
     ]
    },
    {
     "cell_type": "code",
     "collapsed": false,
     "input": [
      "for radius in Buffer_List:\n",
      "    print radius"
     ],
     "language": "python",
     "metadata": {
      "slideshow": {
       "slide_type": "fragment"
      }
     },
     "outputs": []
    },
    {
     "cell_type": "markdown",
     "metadata": {
      "slideshow": {
       "slide_type": "subslide"
      }
     },
     "source": [
      "Now we have to figure out the name of the output feature class for the results of the buffer tool. Since we are going to be running the tool a number of times in a loop it is a good idea to have a unique name for each iteration of the tool. Since we are doing this in the interactive window"
     ]
    },
    {
     "cell_type": "code",
     "collapsed": false,
     "input": [
      "radius_nospace = radius.replace(' ','')\n",
      "new_buffer_fc = ''.join([\"BufferRadius\",radius_nospace])"
     ],
     "language": "python",
     "metadata": {
      "slideshow": {
       "slide_type": "fragment"
      }
     },
     "outputs": []
    },
    {
     "cell_type": "markdown",
     "metadata": {
      "slideshow": {
       "slide_type": "subslide"
      }
     },
     "source": [
      "And then we have the \"for\" loop itself and the \"buffer\" command. Which will look something like this:"
     ]
    },
    {
     "cell_type": "markdown",
     "metadata": {
      "slideshow": {
       "slide_type": "fragment"
      }
     },
     "source": [
      "    for radius in Buffer_List:\n",
      "        arcpy.Buffer_analysis(\"city\", new_fc, radius)"
     ]
    },
    {
     "cell_type": "markdown",
     "metadata": {
      "slideshow": {
       "slide_type": "subslide"
      }
     },
     "source": [
      "To succesfully run this in the ArcGIS Python window you should input the above commands in the follloing order:\n",
      "\n",
      "    Buffer_List = ['15 mile','10 mile','5 mile','1 mile']\n",
      "    for radius in Buffer_List:\n",
      "        radius_nospace = radius.replace(' ','')\n",
      "        new_fc = ''.join([\"BufferRadius\",radius_nospace])\n",
      "        arcpy.Buffer_analysis(\"city\", new_fc, radius)\n",
      "        \n",
      "Enter each line, hit enter once, and then enter the next line. After you enter the last line you will need to hit enter a second time to get the script to run.\n"
     ]
    },
    {
     "cell_type": "markdown",
     "metadata": {
      "slideshow": {
       "slide_type": "subslide"
      }
     },
     "source": [
      "The result should look something like this:\n",
      "\n",
      "<img src=\"files/img/buffer2.jpg\" />"
     ]
    },
    {
     "cell_type": "heading",
     "level": 1,
     "metadata": {
      "slideshow": {
       "slide_type": "slide"
      }
     },
     "source": [
      "Creating an ArcToolbox Script Tool with Python"
     ]
    },
    {
     "cell_type": "markdown",
     "metadata": {
      "slideshow": {
       "slide_type": "notes"
      }
     },
     "source": [
      "Here we will start with a ready to go script, and from that script we will create a tool in ArcToolbox that will run that python script from the ArcToolbox interface. \n",
      "\n",
      "The script we will be using goes through a feature class of points and then checks the elevations of ~65 floridan aquifer potential surface rasters. This would be rather time consuming to do by hand, but is fairly easy to write a python script to do the hard work. And, once it is done once it only takes moments to re-run the script.\n",
      "\n",
      "---\n",
      "\n",
      "Here is the script we will be using:"
     ]
    },
    {
     "cell_type": "code",
     "collapsed": false,
     "input": [
      "#!/usr/bin/env python\n",
      "'''\n",
      "Copyright:   (c) company name\n",
      "ArcGIS Version:   10.1\n",
      "Python Version:   2.7\n",
      "--------------------------------\n",
      "'''\n",
      "import tkFileDialog\n",
      "import Tkinter\n",
      "import arcpy\n",
      "import time\n",
      "import os\n",
      "\n",
      "# Creates a logfile\n",
      "logfile = os.path.join(r'c:\\_pygis\\code',time.strftime('logfile_%m%d%Y%H%M%S.txt'))\n",
      "f = open(logfile,'wb')\n",
      "f.write('\\nLogfile '+ time.strftime('%m-%d-%Y_%H:%M.%S'))\n",
      "\n",
      "# Get info for main variables from ArcGIS\n",
      "in_mxd = arcpy.GetParameterAsText(0)\n",
      "output_gdb = arcpy.GetParameterAsText(1)\n",
      "input_featureclass = arcpy.GetParameterAsText(2)\n",
      "\n",
      "# If variable are not retireved via ArcGIS, then pop up file/folder\n",
      "# selection window for main variables.\n",
      "if in_mxd=='':\n",
      "    try:\n",
      "        root = Tkinter.Tk()\n",
      "        root.withdraw()\n",
      "        in_mxd = tkFileDialog.askopenfilename(parent=root,initialdir=r'C:\\_pygis\\gis\\potsurface.mxd',title='Select the source folder')\n",
      "        f.write('\\nin_mxd: ' + in_mxd)\n",
      "    except Exception:\n",
      "        f.write('\\nerror Tk421-1')\n",
      "    try:\n",
      "        root = Tkinter.Tk()\n",
      "        root.withdraw()\n",
      "        output_gdb = tkFileDialog.askdirectory(parent=root,initialdir=r'C:\\Users\\jjones\\Documents\\ArcGIS\\Default.gdb',title='Select the destination directory')\n",
      "        f.write('\\noutput_gdb: ' + output_gdb)\n",
      "    except Exception:\n",
      "        f.write('\\nerror Tk421-2')\n",
      "    try:\n",
      "        root = Tkinter.Tk()\n",
      "        root.withdraw()\n",
      "        input_featureclass = tkFileDialog.askopenfilename(parent=root,initialdir=r'F:\\Projects\\SWF-001\\GIS\\GDB\\USGS_Pot_Surface.gdb\\_Raster_Locations',title='Select the source scans dbf')\n",
      "        f.write('\\ninput_featureclass: ' + input_featureclass)\n",
      "    except Exception:\n",
      "        f.write('\\nerror Tk421-3')\n",
      "# If neither of the above option are used to set the variable,\n",
      "# default values areadefined.\n",
      "elif in_mxd=='':\n",
      "    in_mxd = r'C:\\_pygis\\gis\\potsurface.mxd'\n",
      "    output_gdb = r'C:\\Users\\jjones\\Documents\\ArcGIS\\Default.gdb'\n",
      "    input_featureclass = r'F:\\Projects\\SWF-001\\GIS\\GDB\\USGS_Pot_Surface.gdb\\_Raster_Locations'\n",
      "    \n",
      "def create_out_fc(o_p,o_fc,in_fc):\n",
      "    '''\n",
      "    This function creates a new feature class for\n",
      "    the elevations at each point at each date for\n",
      "    each of the potential surface rasters.\n",
      "    '''\n",
      "    # Create new Layer and add fields to layer\n",
      "    new_layer = os.path.join(o_p,o_fc)\n",
      "    # Execute CreateFeatureclass\n",
      "    arcpy.CreateFeatureclass_management(o_p,o_fc,\"POINT\",'','','',arcpy.Describe(in_fc).spatialReference,)\n",
      "    # Add necesary fields to new Feature Class\n",
      "    arcpy.AddField_management(new_layer,\"x\",\"double\")\n",
      "    arcpy.AddField_management(new_layer,\"y\",\"double\")\n",
      "    arcpy.AddField_management(new_layer,\"elev\",\"text\")\n",
      "    arcpy.AddField_management(new_layer,\"month\",\"text\")\n",
      "    arcpy.AddField_management(new_layer,\"year\",\"text\")\n",
      "    arcpy.AddField_management(new_layer,\"point\",\"text\")\n",
      "\n",
      "def potsurface_elev(mxd,out_path,out_fc,input_fc):\n",
      "    '''\n",
      "    This function iterates through a number of potential surface\n",
      "    rasters and finds the elevation at each of a number of points.\n",
      "    '''\n",
      "    # Calls the create_out_fc() function to create a new feature class\n",
      "    # for the results of this function\n",
      "    try:\n",
      "        create_out_fc(out_path,out_fc,input_fc)\n",
      "    except Exception:\n",
      "        f.write('\\nError creating new layer')\n",
      "    # Opens MXD containing all potential surface rasters to be analyzed.\n",
      "    for item in arcpy.mapping.ListLayers(arcpy.mapping.MapDocument(mxd),'',''):\n",
      "        month = item.name[:-4]\n",
      "        year = item.name[-4:]\n",
      "        fields = [\"SHAPE@X\",\"SHAPE@Y\",\"OID@\"]\n",
      "        with arcpy.da.SearchCursor(input_fc,fields) as cur:\n",
      "            inrows = arcpy.InsertCursor(os.path.join(out_path,out_fc))\n",
      "            for row in cur:\n",
      "                inrow = inrows.newRow()\n",
      "                x_y = ' '.join([str(row[0]), str(row[1])])\n",
      "                inrow.x = row[0]\n",
      "                inrow.y = row[1]\n",
      "                result = arcpy.GetCellValue_management(item,x_y,'')\n",
      "                inrow.elev = str(result)\n",
      "                inrow.month = month\n",
      "                inrow.year = year\n",
      "                inrow.point = row[2]\n",
      "                inrows.insertRow(inrow)\n",
      "            del inrow, inrows\n",
      "\n",
      "# This test allows the script to be used from the operating\n",
      "# system command prompt (stand-alone), in a Python IDE, \n",
      "# as a geoprocessing script tool, or as a module imported in\n",
      "# another script\n",
      "if __name__ == '__main__':\n",
      "    try:\n",
      "        potsurface_elev(in_mxd,\n",
      "                    output_gdb,\n",
      "                    time.strftime('rstloc%m%d%Y%H%M%S'),\n",
      "                    input_featureclass)\n",
      "    except Exception:\n",
      "        f.write('\\nError')\n",
      "    finally:\n",
      "        f.close()\n",
      "                    "
     ],
     "language": "python",
     "metadata": {
      "slideshow": {
       "slide_type": "fragment"
      }
     },
     "outputs": []
    },
    {
     "cell_type": "markdown",
     "metadata": {
      "slideshow": {
       "slide_type": "subslide"
      }
     },
     "source": [
      "The part of the above script that is most important to using it as a script tool in ArcToolbox is this bit:\n",
      "\n",
      "    # Get info for main variables from ArcGIS\n",
      "    in_mxd = arcpy.GetParameterAsText(0)\n",
      "    output_gdb = arcpy.GetParameterAsText(1)\n",
      "    input_featureclass = arcpy.GetParameterAsText(2)\n",
      "    \n",
      "The 'arcpy.GetParametersAsText()' command is how you define variable in your script that will be set in the Toolbox interface. "
     ]
    },
    {
     "cell_type": "markdown",
     "metadata": {
      "slideshow": {
       "slide_type": "notes"
      }
     },
     "source": [
      "Step 1\n",
      "------\n",
      "\n",
      "- Open ArcMap\n",
      "- Open ArcToolbox\n",
      "- Right click on ArcToolbox (as shown in the picture below)\n",
      "- Select \"Add Toolbox...\""
     ]
    },
    {
     "cell_type": "markdown",
     "metadata": {
      "slideshow": {
       "slide_type": "subslide"
      }
     },
     "source": [
      "<img src=\"files/img/arctoolbox1.jpg\" />"
     ]
    },
    {
     "cell_type": "markdown",
     "metadata": {
      "slideshow": {
       "slide_type": "notes"
      }
     },
     "source": [
      "If you have an existing toolbox that you have saved models from modelbuilder you can select that here. Otherwise, select the \"New Toolbox\" button to create a new toolbox to hold our script tool."
     ]
    },
    {
     "cell_type": "markdown",
     "metadata": {
      "slideshow": {
       "slide_type": "subslide"
      }
     },
     "source": [
      "<img src=\"files/img/arctoolbox1.1.jpg\" />"
     ]
    },
    {
     "cell_type": "markdown",
     "metadata": {
      "slideshow": {
       "slide_type": "notes"
      }
     },
     "source": [
      "Step 2\n",
      "------\n",
      "\n",
      "- Find you nex toolbox in the ArcToolbox window and right click it.\n",
      "- Mouse down to Add\n",
      "- Select \"Script...\""
     ]
    },
    {
     "cell_type": "markdown",
     "metadata": {
      "slideshow": {
       "slide_type": "subslide"
      }
     },
     "source": [
      "<img src=\"files/img/arctoolbox2.jpg\" />"
     ]
    },
    {
     "cell_type": "markdown",
     "metadata": {
      "slideshow": {
       "slide_type": "notes"
      }
     },
     "source": [
      "Step 3\n",
      "------\n",
      "\n",
      "This brings up the \"Add Script\" dialog box. Fill in the Name and Label fields with appropriate values. I usually check the \"Store relative path name\" option and leave the \"Always run in foreground\" option selected.\n",
      "\n",
      "- Click Next"
     ]
    },
    {
     "cell_type": "markdown",
     "metadata": {
      "slideshow": {
       "slide_type": "subslide"
      }
     },
     "source": [
      "<img src=\"files/img/arctoolbox3.jpg\" />"
     ]
    },
    {
     "cell_type": "markdown",
     "metadata": {
      "slideshow": {
       "slide_type": "notes"
      }
     },
     "source": [
      "Step 4\n",
      "------\n",
      "\n",
      "Here we define set up the user interface to select the variables we defined in the script using the \"arcpy.GetParameterAsText()\" command.\n",
      "\n",
      "In our case we have three variable we set up to be selected by the user via the ArcToolbox interface:\n",
      "\n",
      "- in_mxd\n",
      "- output_gdb\n",
      "- input_featureclass\n",
      "\n",
      "Notice we have three differnt types of items to select, an MXD, a GDB, and a feature class. As we enter each of these variables into this section of the Add Script Dialog Box we will need to make sure we set the correct Data Type for each variable. Also, the order the variable's are defined in your script need to match the order the are entered here in the dialog box.\n",
      "\n",
      "Here are how the variables are defined in  our example script:\n",
      "\n",
      "    in_mxd = arcpy.GetParameterAsText(0)\n",
      "    output_gdb = arcpy.GetParameterAsText(1)\n",
      "    input_featureclass = arcpy.GetParameterAsText(2)\n",
      "    \n",
      "Notice the number in the parentheses, that is the order, starting at zero, that the variables need to be added to the tool.\n",
      "\n",
      "The names do not need to match the variable names in your script, it is the order that is important here.\n",
      "\n",
      "So, first enter the information for the 'in_mxd' variable.\n",
      "\n",
      "- Display Name: Input MXD\n",
      "- Data Type: ArcMap Document\n",
      "\n",
      "Next, enter the information for the 'output_gdb' variable.\n",
      "\n",
      "- Display Name: Output GDB\n",
      "- Data Type: Workspace\n",
      "\n",
      "Finally, enter the information for the 'input_featureclass' variable.\n",
      "\n",
      "- Display Name: Input Feature Class\n",
      "- Data Type: Feature Class"
     ]
    },
    {
     "cell_type": "markdown",
     "metadata": {
      "slideshow": {
       "slide_type": "subslide"
      }
     },
     "source": [
      "<img src=\"files/img/arctoolbox4.jpg\" />"
     ]
    },
    {
     "cell_type": "markdown",
     "metadata": {
      "slideshow": {
       "slide_type": "notes"
      }
     },
     "source": [
      "Then click 'Finish' and you will be done. You script tool should show up in your toolbox in the ArcToolbox window."
     ]
    },
    {
     "cell_type": "markdown",
     "metadata": {
      "slideshow": {
       "slide_type": "subslide"
      }
     },
     "source": [
      "<img src=\"files/img/arctoolbox5.jpg\" />"
     ]
    },
    {
     "cell_type": "markdown",
     "metadata": {
      "slideshow": {
       "slide_type": "subslide"
      }
     },
     "source": [
      "Running the Python Script Tool\n",
      "------------------------------\n",
      "\n",
      "To Run the newly created tool just double click on the \"potsurface\" tool and the tool should run just like any other tool in ArcToolbox.\n",
      "\n",
      "<img src=\"files/img/RunTool_001.jpg\" />\n"
     ]
    },
    {
     "cell_type": "markdown",
     "metadata": {
      "slideshow": {
       "slide_type": "subslide"
      }
     },
     "source": [
      "The end result should be something like this:\n",
      "\n",
      "<img src=\"files/img/ToolOutput_001.jpg\" />\n"
     ]
    },
    {
     "cell_type": "markdown",
     "metadata": {
      "slideshow": {
       "slide_type": "notes"
      }
     },
     "source": [
      "There were 11 points being analyzed. At each point an X, Y and Elevation value were recorded, in addition the raster layer name was analyzed using Python string slicing to determine the Month and Year the elevation value was recorded."
     ]
    },
    {
     "cell_type": "markdown",
     "metadata": {
      "slideshow": {
       "slide_type": "slide"
      }
     },
     "source": [
      "References:\n",
      "-----------\n",
      "\n",
      "[IPython](http://ipython.org/) \n",
      "\n",
      "[Enthought Canopy](https://www.enthought.com/products/canopy/)\n",
      "\n",
      "[ArcGIS 10.1/IPython/Canopy Integration](http://gis.stackexchange.com/questions/59012/how-to-access-esri-arcpy-modules-from-enthought-canopy/59144#59144)\n",
      "\n",
      "[Field Calculator Examples](http://resources.arcgis.com/en/help/main/10.1/index.html#//00170000004s000000)\n",
      "\n",
      "[3D Plot Example](http://nbviewer.ipython.org/github/jrjohansson/scientific-python-lectures/blob/master/Lecture-4-Matplotlib.ipynb)\n",
      "\n",
      "---"
     ]
    },
    {
     "cell_type": "code",
     "collapsed": false,
     "input": [],
     "language": "python",
     "metadata": {},
     "outputs": []
    },
    {
     "cell_type": "markdown",
     "metadata": {
      "slideshow": {
       "slide_type": "notes"
      }
     },
     "source": [
      "<link href=\"http://fonts.googleapis.com/css?family=Droid+Serif\" rel=\"stylesheet\" type=\"text/css\">\n",
      "<link href=\"http://fonts.googleapis.com/css?family=Droid+Sans\" rel=\"stylesheet\" type=\"text/css\">\n",
      "<link href='http://fonts.googleapis.com/css?family=Droid+Sans+Mono' rel='stylesheet' type='text/css'>"
     ]
    }
   ],
   "metadata": {}
  }
 ]
}