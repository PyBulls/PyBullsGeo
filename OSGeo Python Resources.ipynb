{
 "metadata": {
  "name": ""
 },
 "nbformat": 3,
 "nbformat_minor": 0,
 "worksheets": [
  {
   "cells": [
    {
     "cell_type": "markdown",
     "metadata": {},
     "source": [
      "Introduction\n",
      "==============\n",
      "\n",
      "I (@DanDye) am a member of the \"PyGIS\" group on LinkedIn and Karim Bahgat shared his [Index of GIS-related Python Libraries](http://pythongisresources.wordpress.com/)"
     ]
    },
    {
     "cell_type": "code",
     "collapsed": false,
     "input": [
      "from IPython.display import HTML\n",
      "HTML('<iframe src=http://pythongisresources.wordpress.com/ width=1000 height=600></iframe>')\n"
     ],
     "language": "python",
     "metadata": {},
     "outputs": [
      {
       "html": [
        "<iframe src=http://pythongisresources.wordpress.com/ width=1000 height=600></iframe>"
       ],
       "metadata": {},
       "output_type": "pyout",
       "prompt_number": 10,
       "text": [
        "<IPython.core.display.HTML at 0x8773da0>"
       ]
      }
     ],
     "prompt_number": 10
    },
    {
     "cell_type": "markdown",
     "metadata": {},
     "source": [
      " * GDAL/OGR on Windows \n",
      "   * Native\n",
      "   * Cygwin/OSGeo4W\n",
      " * GDAL/OGR on Windows + Python Bindings\n",
      " * GDAL/OGR on Windows + Python Bindings + Other Stuff\n",
      " * I recommend: [Anaconda](https://store.continuum.io/cshop/anaconda/)\n",
      "\n",
      "'''>>> conda install gdal '''\n",
      "\n",
      "\n",
      "Afterwards, the GDAL/OGR Utilities are not in the path but they live here:\n",
      "\n",
      "[GDAL Utilities](file:\\C:\\Users\\ddye\\AppData\\Local\\Continuum\\Anaconda\\pkgs\\gdal-1.10.1-np18py27_2\\Lib\\site-packages\\osgeo\\)"
     ]
    },
    {
     "cell_type": "code",
     "collapsed": false,
     "input": [
      "from IPython.display import HTML\n",
      "HTML('<iframe src=https://pypi.python.org/pypi/GDAL/1.10.0 width=1000 height=600></iframe>')"
     ],
     "language": "python",
     "metadata": {},
     "outputs": [
      {
       "html": [
        "<iframe src=https://pypi.python.org/pypi/GDAL/1.10.0 width=1000 height=600></iframe>"
       ],
       "metadata": {},
       "output_type": "pyout",
       "prompt_number": 7,
       "text": [
        "<IPython.core.display.HTML at 0x5262be0>"
       ]
      }
     ],
     "prompt_number": 7
    },
    {
     "cell_type": "code",
     "collapsed": false,
     "input": [
      "print(\"\\n\\nThere are some awesome utilities...\\n\")\n",
      "from IPython.display import HTML\n",
      "HTML('<iframe src=http://www.gdal.org/gdal_utilities.html width=1000 height=600></iframe>')"
     ],
     "language": "python",
     "metadata": {},
     "outputs": [
      {
       "output_type": "stream",
       "stream": "stdout",
       "text": [
        "\n",
        "\n",
        "There are some awesome utilities...\n",
        "\n"
       ]
      },
      {
       "html": [
        "<iframe src=http://www.gdal.org/gdal_utilities.html width=1000 height=600></iframe>"
       ],
       "metadata": {},
       "output_type": "pyout",
       "prompt_number": 11,
       "text": [
        "<IPython.core.display.HTML at 0x5262d30>"
       ]
      }
     ],
     "prompt_number": 11
    },
    {
     "cell_type": "code",
     "collapsed": false,
     "input": [
      "print(\"\\n\\nOn the Vector side, this utility is a workhorse.\\n\")\n",
      "from IPython.display import HTML\n",
      "HTML('<iframe src=http://www.gdal.org/ogr2ogr.html width=1000 height=600></iframe>')"
     ],
     "language": "python",
     "metadata": {},
     "outputs": [
      {
       "output_type": "stream",
       "stream": "stdout",
       "text": [
        "\n",
        "\n",
        "On the Vector side, this utility is a workhorse.\n",
        "\n"
       ]
      },
      {
       "html": [
        "<iframe src=http://www.gdal.org/ogr2ogr.html width=1000 height=600></iframe>"
       ],
       "metadata": {},
       "output_type": "pyout",
       "prompt_number": 13,
       "text": [
        "<IPython.core.display.HTML at 0x5262dd8>"
       ]
      }
     ],
     "prompt_number": 13
    },
    {
     "cell_type": "code",
     "collapsed": false,
     "input": [
      "# http://www.gdal.org/ogr/ogr_apitut.html\n",
      "import sys\n",
      "import ogr\n",
      "\n",
      "ds = ogr.Open( \"point.shp\" )\n",
      "if ds is None:\n",
      "    print \"Open failed.\\n\"\n",
      "    sys.exit( 1 )\n",
      "\n",
      "lyr = ds.GetLayerByName( \"point\" )\n",
      "\n",
      "lyr.ResetReading()\n",
      "\n",
      "for feat in lyr:\n",
      "\n",
      "    feat_defn = lyr.GetLayerDefn()\n",
      "    for i in range(feat_defn.GetFieldCount()):\n",
      "        field_defn = feat_defn.GetFieldDefn(i)\n",
      "\n",
      "        # Tests below can be simplified with just :\n",
      "        # print feat.GetField(i)\n",
      "        if field_defn.GetType() == ogr.OFTInteger:\n",
      "            print \"%d\" % feat.GetFieldAsInteger(i)\n",
      "        elif field_defn.GetType() == ogr.OFTReal:\n",
      "            print \"%.3f\" % feat.GetFieldAsDouble(i)\n",
      "        elif field_defn.GetType() == ogr.OFTString:\n",
      "            print \"%s\" % feat.GetFieldAsString(i)\n",
      "        else:\n",
      "            print \"%s\" % feat.GetFieldAsString(i)\n",
      "\n",
      "    geom = feat.GetGeometryRef()\n",
      "    if geom is not None and geom.GetGeometryType() == ogr.wkbPoint:\n",
      "        print \"%.3f, %.3f\" % ( geom.GetX(), geom.GetY() )\n",
      "    else:\n",
      "        print \"no point geometry\\n\"\n",
      "\n",
      "ds = None"
     ],
     "language": "python",
     "metadata": {},
     "outputs": []
    },
    {
     "cell_type": "markdown",
     "metadata": {},
     "source": [
      "Python + ogr2ogr.exe (conceptual) exercise\n",
      "=============================\n",
      "\n",
      "Create State Flash Cards (PNGs) from a Shapefile of the USA. Each card's state should be zoomed to the full extent.\n",
      "\n",
      "Step 1: Query for a list of unique STATE_NAMEs\n",
      "\n",
      "Step 2: Extract each state's geographic feature with a WHERE clause on the STATE_NAME\n",
      "\n",
      "Step 3: Convert each SHP to a PNG"
     ]
    },
    {
     "cell_type": "code",
     "collapsed": false,
     "input": [
      "from IPython.display import HTML\n",
      "HTML('<iframe src=http://www.gdal.org/gdal_utilities.html width=1000 height=600></iframe>')"
     ],
     "language": "python",
     "metadata": {},
     "outputs": [
      {
       "html": [
        "<iframe src=http://www.gdal.org/gdal_utilities.html width=1000 height=600></iframe>"
       ],
       "metadata": {},
       "output_type": "pyout",
       "prompt_number": 2,
       "text": [
        "<IPython.core.display.HTML at 0x8773908>"
       ]
      }
     ],
     "prompt_number": 2
    },
    {
     "cell_type": "markdown",
     "metadata": {},
     "source": [
      "gdal_translate.exe (conceptual) exercise\n",
      "========================================\n",
      "\n",
      "Turn a dozen hard drives full of air photos into a tileset.\n",
      "\n",
      "Step 1: ...\n",
      "\n",
      "Step 2: ...\n",
      "\n",
      "Step 3: Write a .BAT file that calls gdalwarp.py & gdal_translate.exe with variable params for each input/output image. \n",
      "\n",
      "Step 4: Take HD to a CPU with lots of spare cycles and let it run over a weekend.\n",
      "\n",
      "Step 5: Run gdal_merge.py on all of the images that were warped/translated\n",
      "    "
     ]
    },
    {
     "cell_type": "code",
     "collapsed": false,
     "input": [
      "HTML('<iframe src=http://www.maptiler.org/google-maps-coordinates-tile-bounds-projection/ width=1000 height=600></iframe>')"
     ],
     "language": "python",
     "metadata": {},
     "outputs": [
      {
       "html": [
        "<iframe src=http://www.maptiler.org/google-maps-coordinates-tile-bounds-projection/ width=1000 height=600></iframe>"
       ],
       "metadata": {},
       "output_type": "pyout",
       "prompt_number": 6,
       "text": [
        "<IPython.core.display.HTML at 0x5262710>"
       ]
      }
     ],
     "prompt_number": 6
    },
    {
     "cell_type": "code",
     "collapsed": false,
     "input": [
      "HTML('<iframe src=https://2014.foss4g.org/ width=1000 height=600></iframe>')"
     ],
     "language": "python",
     "metadata": {},
     "outputs": [
      {
       "html": [
        "<iframe src=https://2014.foss4g.org/ width=1000 height=600></iframe>"
       ],
       "metadata": {},
       "output_type": "pyout",
       "prompt_number": 2,
       "text": [
        "<IPython.core.display.HTML at 0x4e32278>"
       ]
      }
     ],
     "prompt_number": 2
    },
    {
     "cell_type": "code",
     "collapsed": false,
     "input": [
      "HTML('<iframe src=https://conference.scipy.org/scipy2014/ width=1000 height=600></iframe>')"
     ],
     "language": "python",
     "metadata": {},
     "outputs": [
      {
       "html": [
        "<iframe src=https://conference.scipy.org/scipy2014/ width=1000 height=600></iframe>"
       ],
       "metadata": {},
       "output_type": "pyout",
       "prompt_number": 4,
       "text": [
        "<IPython.core.display.HTML at 0x8773ba8>"
       ]
      }
     ],
     "prompt_number": 4
    },
    {
     "cell_type": "code",
     "collapsed": false,
     "input": [
      "from IPython.display import HTML\n",
      "HTML('<iframe src=http://pydata.org/ width=1000 height=600></iframe>')\n"
     ],
     "language": "python",
     "metadata": {},
     "outputs": [
      {
       "html": [
        "<iframe src=http://pydata.org/ width=1000 height=600></iframe>"
       ],
       "metadata": {},
       "output_type": "pyout",
       "prompt_number": 4,
       "text": [
        "<IPython.core.display.HTML at 0x52627f0>"
       ]
      }
     ],
     "prompt_number": 4
    },
    {
     "cell_type": "code",
     "collapsed": false,
     "input": [
      "from IPython.display import @TML\n",
      "HTML('<iframe src=http://software-carpentry.org/ width=1000 height=600></iframe>')"
     ],
     "language": "python",
     "metadata": {},
     "outputs": [
      {
       "html": [
        "<iframe src=http://software-carpentry.org/ width=1000 height=600></iframe>"
       ],
       "metadata": {},
       "output_type": "pyout",
       "prompt_number": 3,
       "text": [
        "<IPython.core.display.HTML at 0x52629b0>"
       ]
      }
     ],
     "prompt_number": 3
    },
    {
     "cell_type": "markdown",
     "metadata": {},
     "source": [
      "More links:\n",
      "\n",
      "\n",
      "http://nbviewer.ipython.org/github/mqlaql/geospatial-data/blob/master/Geospatial-Data-with-Python.ipynb "
     ]
    },
    {
     "cell_type": "code",
     "collapsed": false,
     "input": [],
     "language": "python",
     "metadata": {},
     "outputs": []
    }
   ],
   "metadata": {}
  }
 ]
}